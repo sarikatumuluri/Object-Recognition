{
  "nbformat": 4,
  "nbformat_minor": 0,
  "metadata": {
    "colab": {
      "name": "ObjectRecongnition- 1.ipynb",
      "provenance": [],
      "collapsed_sections": []
    },
    "kernelspec": {
      "name": "python3",
      "display_name": "Python 3"
    }
  },
  "cells": [
    {
      "cell_type": "code",
      "metadata": {
        "id": "-ZMy6wmdFTUa",
        "colab_type": "code",
        "colab": {}
      },
      "source": [
        "import keras\n",
        "from keras.models import Sequential\n",
        "from keras.utils import np_utils\n",
        "from keras.preprocessing.image import ImageDataGenerator\n",
        "from keras.layers import Dense, Activation, Flatten, Dropout, BatchNormalization\n",
        "from keras.layers import Conv2D, MaxPooling2D\n",
        "from keras.datasets import cifar10\n",
        "from keras import regularizers\n",
        "from keras.callbacks import LearningRateScheduler\n",
        "import numpy as np\n",
        "from matplotlib import pyplot\n",
        "from keras.datasets import cifar10\n",
        "from keras.preprocessing.image import load_img\n",
        "from keras.preprocessing.image import img_to_array\n",
        "from keras.models import load_model"
      ],
      "execution_count": 0,
      "outputs": []
    },
    {
      "cell_type": "code",
      "metadata": {
        "id": "yiM3B7eGzJlF",
        "colab_type": "code",
        "colab": {}
      },
      "source": [
        "def lr_schedule(epoch):\n",
        "    lrate = 0.001\n",
        "    if epoch > 75:\n",
        "        lrate = 0.0005\n",
        "    if epoch > 100:\n",
        "        lrate = 0.0003\n",
        "    return lrate"
      ],
      "execution_count": 0,
      "outputs": []
    },
    {
      "cell_type": "code",
      "metadata": {
        "id": "w9b-IU_JzOSL",
        "colab_type": "code",
        "outputId": "6b0cd0e2-8fa4-492d-8b5a-70d88f191210",
        "colab": {
          "base_uri": "https://localhost:8080/",
          "height": 51
        }
      },
      "source": [
        "(x_train, y_train), (x_test, y_test) = cifar10.load_data()\n",
        "x_train = x_train.astype('float32')\n",
        "x_test = x_test.astype('float32')"
      ],
      "execution_count": 20,
      "outputs": [
        {
          "output_type": "stream",
          "text": [
            "Downloading data from https://www.cs.toronto.edu/~kriz/cifar-10-python.tar.gz\n",
            "170500096/170498071 [==============================] - 13s 0us/step\n"
          ],
          "name": "stdout"
        }
      ]
    },
    {
      "cell_type": "code",
      "metadata": {
        "id": "iwxTYU-OzTjz",
        "colab_type": "code",
        "colab": {}
      },
      "source": [
        "mean = np.mean(x_train,axis=(0,1,2,3))\n",
        "std = np.std(x_train,axis=(0,1,2,3))\n",
        "x_train = (x_train-mean)/(std+1e-7)\n",
        "x_test = (x_test-mean)/(std+1e-7)"
      ],
      "execution_count": 0,
      "outputs": []
    },
    {
      "cell_type": "code",
      "metadata": {
        "id": "epYHTCw0zXr8",
        "colab_type": "code",
        "colab": {}
      },
      "source": [
        "num_classes = 10\n",
        "y_train = np_utils.to_categorical(y_train,num_classes)\n",
        "y_test = np_utils.to_categorical(y_test,num_classes)"
      ],
      "execution_count": 0,
      "outputs": []
    },
    {
      "cell_type": "code",
      "metadata": {
        "id": "Umu1hL2TzcJl",
        "colab_type": "code",
        "colab": {}
      },
      "source": [
        "weight_decay = 1e-4\n",
        "model = Sequential()\n",
        "model.add(Conv2D(32, (3,3), padding='same', kernel_regularizer=regularizers.l2(weight_decay), input_shape=x_train.shape[1:]))\n",
        "model.add(Activation('elu'))\n",
        "model.add(BatchNormalization())\n",
        "model.add(Conv2D(32, (3,3), padding='same', kernel_regularizer=regularizers.l2(weight_decay)))\n",
        "model.add(Activation('elu'))\n",
        "model.add(BatchNormalization())\n",
        "model.add(MaxPooling2D(pool_size=(2,2)))\n",
        "model.add(Dropout(0.2))"
      ],
      "execution_count": 0,
      "outputs": []
    },
    {
      "cell_type": "code",
      "metadata": {
        "id": "AL3M2JNUzfqz",
        "colab_type": "code",
        "colab": {}
      },
      "source": [
        "model.add(Conv2D(64, (3,3), padding='same', kernel_regularizer=regularizers.l2(weight_decay)))\n",
        "model.add(Activation('elu'))\n",
        "model.add(BatchNormalization())\n",
        "model.add(Conv2D(64, (3,3), padding='same', kernel_regularizer=regularizers.l2(weight_decay)))\n",
        "model.add(Activation('elu'))\n",
        "model.add(BatchNormalization())\n",
        "model.add(MaxPooling2D(pool_size=(2,2)))\n",
        "model.add(Dropout(0.3))"
      ],
      "execution_count": 0,
      "outputs": []
    },
    {
      "cell_type": "code",
      "metadata": {
        "id": "KzsOiI4Mzjgy",
        "colab_type": "code",
        "colab": {}
      },
      "source": [
        "model.add(Conv2D(128, (3,3), padding='same', kernel_regularizer=regularizers.l2(weight_decay)))\n",
        "model.add(Activation('elu'))\n",
        "model.add(BatchNormalization())\n",
        "model.add(Conv2D(128, (3,3), padding='same', kernel_regularizer=regularizers.l2(weight_decay)))\n",
        "model.add(Activation('elu'))\n",
        "model.add(BatchNormalization())\n",
        "model.add(MaxPooling2D(pool_size=(2,2)))\n",
        "model.add(Dropout(0.4))"
      ],
      "execution_count": 0,
      "outputs": []
    },
    {
      "cell_type": "code",
      "metadata": {
        "id": "Z-kyRsIpzpIx",
        "colab_type": "code",
        "colab": {}
      },
      "source": [
        "model.add(Flatten())\n",
        "model.add(Dense(num_classes, activation='softmax'))"
      ],
      "execution_count": 0,
      "outputs": []
    },
    {
      "cell_type": "code",
      "metadata": {
        "id": "8wsw_hNUikWz",
        "colab_type": "code",
        "outputId": "6942f6eb-91e1-4238-d04b-1d0687344f8f",
        "colab": {
          "base_uri": "https://localhost:8080/",
          "height": 1000
        }
      },
      "source": [
        "model.summary()\n",
        " \n",
        "#data augmentation\n",
        "datagen = ImageDataGenerator(\n",
        "    rotation_range=15,\n",
        "    width_shift_range=0.1,\n",
        "    height_shift_range=0.1,\n",
        "    horizontal_flip=True,\n",
        "    )\n",
        "datagen.fit(x_train)"
      ],
      "execution_count": 27,
      "outputs": [
        {
          "output_type": "stream",
          "text": [
            "Model: \"sequential_1\"\n",
            "_________________________________________________________________\n",
            "Layer (type)                 Output Shape              Param #   \n",
            "=================================================================\n",
            "conv2d_1 (Conv2D)            (None, 32, 32, 32)        896       \n",
            "_________________________________________________________________\n",
            "activation_1 (Activation)    (None, 32, 32, 32)        0         \n",
            "_________________________________________________________________\n",
            "batch_normalization_1 (Batch (None, 32, 32, 32)        128       \n",
            "_________________________________________________________________\n",
            "conv2d_2 (Conv2D)            (None, 32, 32, 32)        9248      \n",
            "_________________________________________________________________\n",
            "activation_2 (Activation)    (None, 32, 32, 32)        0         \n",
            "_________________________________________________________________\n",
            "batch_normalization_2 (Batch (None, 32, 32, 32)        128       \n",
            "_________________________________________________________________\n",
            "max_pooling2d_1 (MaxPooling2 (None, 16, 16, 32)        0         \n",
            "_________________________________________________________________\n",
            "dropout_1 (Dropout)          (None, 16, 16, 32)        0         \n",
            "_________________________________________________________________\n",
            "conv2d_3 (Conv2D)            (None, 16, 16, 64)        18496     \n",
            "_________________________________________________________________\n",
            "activation_3 (Activation)    (None, 16, 16, 64)        0         \n",
            "_________________________________________________________________\n",
            "batch_normalization_3 (Batch (None, 16, 16, 64)        256       \n",
            "_________________________________________________________________\n",
            "conv2d_4 (Conv2D)            (None, 16, 16, 64)        36928     \n",
            "_________________________________________________________________\n",
            "activation_4 (Activation)    (None, 16, 16, 64)        0         \n",
            "_________________________________________________________________\n",
            "batch_normalization_4 (Batch (None, 16, 16, 64)        256       \n",
            "_________________________________________________________________\n",
            "max_pooling2d_2 (MaxPooling2 (None, 8, 8, 64)          0         \n",
            "_________________________________________________________________\n",
            "dropout_2 (Dropout)          (None, 8, 8, 64)          0         \n",
            "_________________________________________________________________\n",
            "conv2d_5 (Conv2D)            (None, 8, 8, 128)         73856     \n",
            "_________________________________________________________________\n",
            "activation_5 (Activation)    (None, 8, 8, 128)         0         \n",
            "_________________________________________________________________\n",
            "batch_normalization_5 (Batch (None, 8, 8, 128)         512       \n",
            "_________________________________________________________________\n",
            "conv2d_6 (Conv2D)            (None, 8, 8, 128)         147584    \n",
            "_________________________________________________________________\n",
            "activation_6 (Activation)    (None, 8, 8, 128)         0         \n",
            "_________________________________________________________________\n",
            "batch_normalization_6 (Batch (None, 8, 8, 128)         512       \n",
            "_________________________________________________________________\n",
            "max_pooling2d_3 (MaxPooling2 (None, 4, 4, 128)         0         \n",
            "_________________________________________________________________\n",
            "dropout_3 (Dropout)          (None, 4, 4, 128)         0         \n",
            "_________________________________________________________________\n",
            "flatten_1 (Flatten)          (None, 2048)              0         \n",
            "_________________________________________________________________\n",
            "dense_1 (Dense)              (None, 10)                20490     \n",
            "=================================================================\n",
            "Total params: 309,290\n",
            "Trainable params: 308,394\n",
            "Non-trainable params: 896\n",
            "_________________________________________________________________\n"
          ],
          "name": "stdout"
        }
      ]
    },
    {
      "cell_type": "code",
      "metadata": {
        "id": "d_T1K2SYiz6s",
        "colab_type": "code",
        "outputId": "b0448a1c-885e-45a0-f678-e65b349ccb7a",
        "colab": {
          "base_uri": "https://localhost:8080/",
          "height": 734
        }
      },
      "source": [
        "batch_size = 64\n",
        " \n",
        "opt_rms = keras.optimizers.rmsprop(lr=0.001,decay=1e-6)\n",
        "model.compile(loss='categorical_crossentropy', optimizer=opt_rms, metrics=['accuracy'])\n",
        "model.fit_generator(datagen.flow(x_train, y_train, batch_size=batch_size),\\\n",
        "                    steps_per_epoch=x_train.shape[0] // batch_size,epochs=20,\\\n",
        "                    verbose=1,validation_data=(x_test,y_test),callbacks=[LearningRateScheduler(lr_schedule)])\n"
      ],
      "execution_count": 28,
      "outputs": [
        {
          "output_type": "stream",
          "text": [
            "Epoch 1/20\n",
            "781/781 [==============================] - 483s 619ms/step - loss: 1.8732 - accuracy: 0.4341 - val_loss: 1.2995 - val_accuracy: 0.6051\n",
            "Epoch 2/20\n",
            "781/781 [==============================] - 481s 616ms/step - loss: 1.2465 - accuracy: 0.5973 - val_loss: 1.2505 - val_accuracy: 0.6415\n",
            "Epoch 3/20\n",
            "781/781 [==============================] - 478s 612ms/step - loss: 1.0614 - accuracy: 0.6595 - val_loss: 1.0243 - val_accuracy: 0.6969\n",
            "Epoch 4/20\n",
            "781/781 [==============================] - 476s 610ms/step - loss: 0.9593 - accuracy: 0.6946 - val_loss: 0.9026 - val_accuracy: 0.7276\n",
            "Epoch 5/20\n",
            "781/781 [==============================] - 475s 608ms/step - loss: 0.8933 - accuracy: 0.7230 - val_loss: 0.8406 - val_accuracy: 0.7561\n",
            "Epoch 6/20\n",
            "781/781 [==============================] - 481s 615ms/step - loss: 0.8485 - accuracy: 0.7417 - val_loss: 0.8158 - val_accuracy: 0.7625\n",
            "Epoch 7/20\n",
            "781/781 [==============================] - 481s 616ms/step - loss: 0.8105 - accuracy: 0.7540 - val_loss: 0.7683 - val_accuracy: 0.7814\n",
            "Epoch 8/20\n",
            "781/781 [==============================] - 483s 619ms/step - loss: 0.7866 - accuracy: 0.7646 - val_loss: 0.7650 - val_accuracy: 0.7786\n",
            "Epoch 9/20\n",
            "781/781 [==============================] - 485s 622ms/step - loss: 0.7625 - accuracy: 0.7748 - val_loss: 0.8088 - val_accuracy: 0.7746\n",
            "Epoch 10/20\n",
            "781/781 [==============================] - 481s 616ms/step - loss: 0.7448 - accuracy: 0.7832 - val_loss: 0.6972 - val_accuracy: 0.8030\n",
            "Epoch 11/20\n",
            "781/781 [==============================] - 483s 619ms/step - loss: 0.7296 - accuracy: 0.7898 - val_loss: 0.7093 - val_accuracy: 0.8071\n",
            "Epoch 12/20\n",
            "781/781 [==============================] - 483s 619ms/step - loss: 0.7191 - accuracy: 0.7931 - val_loss: 0.6179 - val_accuracy: 0.8316\n",
            "Epoch 13/20\n",
            "781/781 [==============================] - 480s 615ms/step - loss: 0.7062 - accuracy: 0.7977 - val_loss: 0.6726 - val_accuracy: 0.8181\n",
            "Epoch 14/20\n",
            "781/781 [==============================] - 480s 615ms/step - loss: 0.7026 - accuracy: 0.8010 - val_loss: 0.6904 - val_accuracy: 0.8108\n",
            "Epoch 15/20\n",
            "781/781 [==============================] - 481s 615ms/step - loss: 0.6911 - accuracy: 0.8062 - val_loss: 0.6923 - val_accuracy: 0.8160\n",
            "Epoch 16/20\n",
            "781/781 [==============================] - 492s 630ms/step - loss: 0.6870 - accuracy: 0.8066 - val_loss: 0.6649 - val_accuracy: 0.8234\n",
            "Epoch 17/20\n",
            "781/781 [==============================] - 491s 628ms/step - loss: 0.6832 - accuracy: 0.8083 - val_loss: 0.5878 - val_accuracy: 0.8491\n",
            "Epoch 18/20\n",
            "781/781 [==============================] - 480s 615ms/step - loss: 0.6699 - accuracy: 0.8160 - val_loss: 0.6480 - val_accuracy: 0.8259\n",
            "Epoch 19/20\n",
            "781/781 [==============================] - 479s 614ms/step - loss: 0.6711 - accuracy: 0.8157 - val_loss: 0.6612 - val_accuracy: 0.8235\n",
            "Epoch 20/20\n",
            "781/781 [==============================] - 475s 608ms/step - loss: 0.6612 - accuracy: 0.8197 - val_loss: 0.5868 - val_accuracy: 0.8506\n"
          ],
          "name": "stdout"
        },
        {
          "output_type": "execute_result",
          "data": {
            "text/plain": [
              "<keras.callbacks.callbacks.History at 0x7f55ff9d0c88>"
            ]
          },
          "metadata": {
            "tags": []
          },
          "execution_count": 28
        }
      ]
    },
    {
      "cell_type": "code",
      "metadata": {
        "id": "-rfUcA8W9VAQ",
        "colab_type": "code",
        "colab": {}
      },
      "source": [
        "model_json = model.to_json()\n",
        "with open('model.json', 'w') as json_file:\n",
        "    json_file.write(model_json)\n",
        "model.save_weights('model.h5')"
      ],
      "execution_count": 0,
      "outputs": []
    },
    {
      "cell_type": "code",
      "metadata": {
        "id": "RbTh8Z9Ci72s",
        "colab_type": "code",
        "outputId": "c4ae90ba-959e-4349-84de-ef55c7bb96db",
        "colab": {
          "base_uri": "https://localhost:8080/",
          "height": 68
        }
      },
      "source": [
        "scores = model.evaluate(x_test, y_test, batch_size=128, verbose=1)\n",
        "print('\\nTest result: %.3f loss: %.3f' % (scores[1]*100,scores[0]))"
      ],
      "execution_count": 29,
      "outputs": [
        {
          "output_type": "stream",
          "text": [
            "10000/10000 [==============================] - 24s 2ms/step\n",
            "\n",
            "Test result: 85.060 loss: 0.587\n"
          ],
          "name": "stdout"
        }
      ]
    },
    {
      "cell_type": "code",
      "metadata": {
        "id": "8QqJId1l4_gl",
        "colab_type": "code",
        "outputId": "71cc48b1-7abc-44ea-ce75-db2ddeb1b33b",
        "colab": {
          "base_uri": "https://localhost:8080/",
          "height": 68
        }
      },
      "source": [
        "scores = model.evaluate(x_train, y_train, batch_size=128, verbose=1)\n",
        "print('\\nTest result: %.3f loss: %.3f' % (scores[1]*100,scores[0]))"
      ],
      "execution_count": 30,
      "outputs": [
        {
          "output_type": "stream",
          "text": [
            "50000/50000 [==============================] - 120s 2ms/step\n",
            "\n",
            "Test result: 87.204 loss: 0.512\n"
          ],
          "name": "stdout"
        }
      ]
    },
    {
      "cell_type": "code",
      "metadata": {
        "id": "b3-QUr-7jTJQ",
        "colab_type": "code",
        "colab": {
          "base_uri": "https://localhost:8080/",
          "height": 34
        },
        "outputId": "ff581058-2ac6-48b4-8e9c-084dc433a81f"
      },
      "source": [
        "from google.colab import drive \n",
        "drive.mount('/content/drive') "
      ],
      "execution_count": 55,
      "outputs": [
        {
          "output_type": "stream",
          "text": [
            "Mounted at /content/drive\n"
          ],
          "name": "stdout"
        }
      ]
    },
    {
      "cell_type": "code",
      "metadata": {
        "id": "fPr0lQeAkVSM",
        "colab_type": "code",
        "colab": {}
      },
      "source": [
        "model.save('my_model.h5')"
      ],
      "execution_count": 0,
      "outputs": []
    },
    {
      "cell_type": "code",
      "metadata": {
        "id": "AJCs-Q79ka5Z",
        "colab_type": "code",
        "colab": {}
      },
      "source": [
        "!mv my_model.h5 \"/content/drive/My Drive/\""
      ],
      "execution_count": 0,
      "outputs": []
    }
  ]
}